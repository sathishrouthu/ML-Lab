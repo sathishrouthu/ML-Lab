{
 "cells": [
  {
   "cell_type": "markdown",
   "metadata": {},
   "source": [
    "<center> <h1>Neural Network</h1></center>"
   ]
  },
  {
   "cell_type": "code",
   "execution_count": 1,
   "metadata": {
    "id": "h3ZQiMPwLKgZ"
   },
   "outputs": [],
   "source": [
    "import numpy as np\n",
    "import pandas as pd\n",
    "import matplotlib.pyplot as plt"
   ]
  },
  {
   "cell_type": "markdown",
   "metadata": {},
   "source": [
    "### Creating a NeuralNetwork with back propagation"
   ]
  },
  {
   "cell_type": "code",
   "execution_count": 19,
   "metadata": {},
   "outputs": [],
   "source": [
    "layers = [2,2,1]\n",
    "alpha=0.5"
   ]
  },
  {
   "cell_type": "code",
   "execution_count": 20,
   "metadata": {},
   "outputs": [],
   "source": [
    "W=[]"
   ]
  },
  {
   "cell_type": "code",
   "execution_count": 21,
   "metadata": {},
   "outputs": [],
   "source": [
    "for i in range(len(layers)-2):\n",
    "    w = np.random.randn(layers[i]+1,layers[i+1]+1)\n",
    "    W.append(w/np.sqrt(layers[i]))"
   ]
  },
  {
   "cell_type": "code",
   "execution_count": 22,
   "metadata": {},
   "outputs": [
    {
     "data": {
      "text/plain": [
       "[array([[-0.16240142,  0.06748261,  0.54636039],\n",
       "        [ 0.28295849,  0.62059673, -0.34512913],\n",
       "        [-0.79251193,  0.71830689,  1.21234849]])]"
      ]
     },
     "execution_count": 22,
     "metadata": {},
     "output_type": "execute_result"
    }
   ],
   "source": [
    "W"
   ]
  },
  {
   "cell_type": "code",
   "execution_count": 23,
   "metadata": {},
   "outputs": [],
   "source": [
    "w = np.random.randn(layers[-2]+1,layers[-1])\n",
    "W.append(w/np.sqrt(layers[-2]))"
   ]
  },
  {
   "cell_type": "code",
   "execution_count": 28,
   "metadata": {},
   "outputs": [
    {
     "data": {
      "text/plain": [
       "array([[ 0.55487131],\n",
       "       [-0.53245134],\n",
       "       [ 0.76459713]])"
      ]
     },
     "execution_count": 28,
     "metadata": {},
     "output_type": "execute_result"
    }
   ],
   "source": [
    "np.random.randn(layers[-2]+1,layers[-1])"
   ]
  },
  {
   "cell_type": "code",
   "execution_count": 24,
   "metadata": {},
   "outputs": [
    {
     "data": {
      "text/plain": [
       "[array([[-0.16240142,  0.06748261,  0.54636039],\n",
       "        [ 0.28295849,  0.62059673, -0.34512913],\n",
       "        [-0.79251193,  0.71830689,  1.21234849]]),\n",
       " array([[ 0.57278884],\n",
       "        [-0.34520623],\n",
       "        [ 0.85653741]])]"
      ]
     },
     "execution_count": 24,
     "metadata": {},
     "output_type": "execute_result"
    }
   ],
   "source": [
    "W"
   ]
  },
  {
   "cell_type": "code",
   "execution_count": 2,
   "metadata": {
    "id": "Y_beg1GrTAFd"
   },
   "outputs": [],
   "source": [
    "class NeuralNetwork:\n",
    "  def __init__(self,layers,alpha=0.1):\n",
    "    self.W=[]\n",
    "    self.layers = layers\n",
    "    self.alpha = alpha\n",
    "    self.losses = {}\n",
    "    for i in np.arange(0,len(layers)-2):\n",
    "      w = np.random.randn(layers[i]+1,layers[i+1]+1)\n",
    "      self.W.append(w/np.sqrt(layers[i]))\n",
    "    w = np.random.randn(layers[-2]+1,layers[-1])\n",
    "    self.W.append(w/np.sqrt(layers[-2]))\n",
    "  def __repr__(self):\n",
    "    return \"NeuralNetWork : \"+\"-\".join([str(i) for i in self.layers])\n",
    "\n",
    "  def sigmoid(self,x):\n",
    "    return 1.0/(1+np.exp(-x))\n",
    "\n",
    "  def sigmoid_deriv(self,x):\n",
    "    return x*(1-x)\n",
    "\n",
    "  def fit(self,X,y,epochs=1000,displayUpdate=100):\n",
    "    X = np.c_[X,np.ones((X.shape[0]))]\n",
    "    for epoch in np.arange(0,epochs):\n",
    "      for x,target in zip(X,y):\n",
    "        self.fit_partial(x,target)\n",
    "      if epoch==0 or (epoch+1)%displayUpdate ==0:\n",
    "        loss = self.calculate_loss(X,y)\n",
    "        self.losses[epoch+1] = loss\n",
    "        #print(\"[INFO] epoch={}, loss={:.6f}\".format(epoch + 1, loss))\n",
    "\n",
    "  def fit_partial(self,x,y):\n",
    "    A = [np.atleast_2d(x)]\n",
    "    for layer in np.arange(0,len(self.W)):\n",
    "      net = A[layer].dot(self.W[layer])\n",
    "      out = self.sigmoid(net)\n",
    "      A.append(out)\n",
    "    error = A[-1]-y\n",
    "    D =[error* self.sigmoid_deriv(A[-1])]\n",
    "    for layer in np.arange(len(A)-2,0,-1):\n",
    "      delta = D[-1].dot(self.W[layer].T)\n",
    "      delta = delta * self.sigmoid_deriv(A[layer])\n",
    "      D.append(delta)\n",
    "    D = D[::-1]\n",
    "    for layer in range(0,len(self.W)):\n",
    "      self.W[layer]+= -self.alpha*A[layer].T.dot(D[layer])\n",
    "  def predict(self,X,addBias=True):\n",
    "    p = np.atleast_2d(X)\n",
    "    if addBias:\n",
    "      p = np.c_[p, np.ones((p.shape[0]))]\n",
    "\n",
    "    for layer in np.arange(0, len(self.W)):\n",
    "      p = self.sigmoid(np.dot(p, self.W[layer]))\n",
    "    return p\n",
    "  def calculate_loss(self,X,targets):\n",
    "    targets = np.atleast_2d(targets)\n",
    "    predictions = self.predict(X, addBias=False)\n",
    "    loss = 0.5 * np.sum((predictions - targets) ** 2)\n",
    "    return loss\n"
   ]
  },
  {
   "cell_type": "code",
   "execution_count": 3,
   "metadata": {
    "id": "UqQN8Zj3TIEt"
   },
   "outputs": [],
   "source": [
    "X = np.array([[0, 0], [0, 1], [1, 0], [1, 1]])\n",
    "y = np.array([[0], [1], [1], [0]])"
   ]
  },
  {
   "cell_type": "code",
   "execution_count": 4,
   "metadata": {},
   "outputs": [
    {
     "data": {
      "text/plain": [
       "array([[0, 0],\n",
       "       [0, 1],\n",
       "       [1, 0],\n",
       "       [1, 1]])"
      ]
     },
     "execution_count": 4,
     "metadata": {},
     "output_type": "execute_result"
    }
   ],
   "source": [
    "X"
   ]
  },
  {
   "cell_type": "code",
   "execution_count": 5,
   "metadata": {},
   "outputs": [
    {
     "data": {
      "text/plain": [
       "array([[0],\n",
       "       [1],\n",
       "       [1],\n",
       "       [0]])"
      ]
     },
     "execution_count": 5,
     "metadata": {},
     "output_type": "execute_result"
    }
   ],
   "source": [
    "y"
   ]
  },
  {
   "cell_type": "code",
   "execution_count": 9,
   "metadata": {
    "scrolled": false
   },
   "outputs": [],
   "source": [
    "nn = NeuralNetwork([2, 2, 1], alpha=0.5)\n",
    "nn.fit(X, y, epochs=20000)"
   ]
  },
  {
   "cell_type": "markdown",
   "metadata": {},
   "source": [
    "### Chnage in loss with epochs "
   ]
  },
  {
   "cell_type": "code",
   "execution_count": 10,
   "metadata": {
    "scrolled": true
   },
   "outputs": [
    {
     "data": {
      "text/plain": [
       "Text(0.5, 1.0, 'epochs vs Loss')"
      ]
     },
     "execution_count": 10,
     "metadata": {},
     "output_type": "execute_result"
    },
    {
     "data": {
      "image/png": "[encoded data removed]",
      "text/plain": [
       "<Figure size 432x288 with 1 Axes>"
      ]
     },
     "metadata": {
      "needs_background": "light"
     },
     "output_type": "display_data"
    }
   ],
   "source": [
    "plt.plot(list(nn.losses.keys()),list(nn.losses.values()),'r-')\n",
    "\n",
    "plt.xlabel(\"epochs\")\n",
    "plt.ylabel(\"Loss\")\n",
    "plt.title(\"epochs vs Loss\")"
   ]
  },
  {
   "cell_type": "code",
   "execution_count": 11,
   "metadata": {},
   "outputs": [
    {
     "name": "stdout",
     "output_type": "stream",
     "text": [
      "[INFO] data=[0 0], ground-truth=0, pred=0.0095, step=0\n",
      "[INFO] data=[0 1], ground-truth=1, pred=0.9867, step=1\n",
      "[INFO] data=[1 0], ground-truth=1, pred=0.9898, step=1\n",
      "[INFO] data=[1 1], ground-truth=0, pred=0.0118, step=0\n"
     ]
    }
   ],
   "source": [
    "for (x, target) in zip(X, y):\n",
    "    pred = nn.predict(x)[0][0]\n",
    "    step = 1 if pred > 0.5 else 0\n",
    "    print(\"[INFO] data={}, ground-truth={}, pred={:.4f}, step={}\".format(x, target[0], pred, step))"
   ]
  },
  {
   "cell_type": "markdown",
   "metadata": {},
   "source": [
    "# MNIST Data set"
   ]
  },
  {
   "cell_type": "code",
   "execution_count": 12,
   "metadata": {},
   "outputs": [],
   "source": [
    "from sklearn.preprocessing import LabelBinarizer\n",
    "from sklearn.model_selection import train_test_split\n",
    "from sklearn.metrics import classification_report\n",
    "from sklearn import datasets"
   ]
  },
  {
   "cell_type": "code",
   "execution_count": 13,
   "metadata": {},
   "outputs": [
    {
     "name": "stdout",
     "output_type": "stream",
     "text": [
      "[INFO] loading MNIST (sample) dataset...\n",
      "[INFO] samples: 1797, dim: 64\n"
     ]
    }
   ],
   "source": [
    "print(\"[INFO] loading MNIST (sample) dataset...\")\n",
    "digits = datasets.load_digits()\n",
    "data = digits.data.astype(\"float\")\n",
    "data = (data - data.min()) / (data.max() - data.min())\n",
    "print(\"[INFO] samples: {}, dim: {}\".format(data.shape[0], data.shape[1]))"
   ]
  },
  {
   "cell_type": "code",
   "execution_count": 14,
   "metadata": {},
   "outputs": [],
   "source": [
    "(trainX, testX, trainY, testY) = train_test_split(data,digits.target, test_size=0.25)\n",
    "# convert the labels from integers to vectors\n",
    "trainY = LabelBinarizer().fit_transform(trainY)\n",
    "testY = LabelBinarizer().fit_transform(testY)"
   ]
  },
  {
   "cell_type": "code",
   "execution_count": 15,
   "metadata": {},
   "outputs": [
    {
     "name": "stdout",
     "output_type": "stream",
     "text": [
      "[INFO] training network...\n",
      "[INFO] NeuralNetWork : 64-32-16-10\n"
     ]
    }
   ],
   "source": [
    "print(\"[INFO] training network...\")\n",
    "nn = NeuralNetwork([trainX.shape[1], 32, 16, 10])\n",
    "print(\"[INFO] {}\".format(nn))\n",
    "nn.fit(trainX, trainY, epochs=1000)"
   ]
  },
  {
   "cell_type": "code",
   "execution_count": 16,
   "metadata": {},
   "outputs": [
    {
     "name": "stdout",
     "output_type": "stream",
     "text": [
      "[INFO] evaluating network...\n",
      "              precision    recall  f1-score   support\n",
      "\n",
      "           0       1.00      1.00      1.00        41\n",
      "           1       0.89      1.00      0.94        34\n",
      "           2       1.00      1.00      1.00        43\n",
      "           3       0.96      0.98      0.97        44\n",
      "           4       1.00      0.98      0.99        54\n",
      "           5       1.00      0.94      0.97        49\n",
      "           6       0.97      1.00      0.99        38\n",
      "           7       1.00      0.96      0.98        53\n",
      "           8       0.90      0.91      0.91        47\n",
      "           9       0.96      0.94      0.95        47\n",
      "\n",
      "    accuracy                           0.97       450\n",
      "   macro avg       0.97      0.97      0.97       450\n",
      "weighted avg       0.97      0.97      0.97       450\n",
      "\n"
     ]
    }
   ],
   "source": [
    "print(\"[INFO] evaluating network...\")\n",
    "predictions = nn.predict(testX)\n",
    "predictions = predictions.argmax(axis=1)\n",
    "print(classification_report(testY.argmax(axis=1), predictions))"
   ]
  },
  {
   "cell_type": "code",
   "execution_count": 17,
   "metadata": {},
   "outputs": [
    {
     "data": {
      "text/plain": [
       "Text(0, 0.5, 'Loss')"
      ]
     },
     "execution_count": 17,
     "metadata": {},
     "output_type": "execute_result"
    },
    {
     "data": {
      "image/png": "[encoded data removed]",
      "text/plain": [
       "<Figure size 432x288 with 1 Axes>"
      ]
     },
     "metadata": {
      "needs_background": "light"
     },
     "output_type": "display_data"
    }
   ],
   "source": [
    "plt.plot(list(nn.losses.keys()),list(nn.losses.values()),'r-')\n",
    "plt.xlabel(\"epochs\")\n",
    "plt.ylabel(\"Loss\")"
   ]
  },
  {
   "cell_type": "code",
   "execution_count": null,
   "metadata": {},
   "outputs": [],
   "source": []
  }
 ],
 "metadata": {
  "colab": {
   "authorship_tag": "ABX9TyP35Z5x+f0DufgeqQvt2ZRO",
   "collapsed_sections": [],
   "include_colab_link": true,
   "name": "backpropagation.ipynb",
   "provenance": []
  },
  "kernelspec": {
   "display_name": "Python 3",
   "language": "python",
   "name": "python3"
  },
  "language_info": {
   "codemirror_mode": {
    "name": "ipython",
    "version": 3
   },
   "file_extension": ".py",
   "mimetype": "text/x-python",
   "name": "python",
   "nbconvert_exporter": "python",
   "pygments_lexer": "ipython3",
   "version": "3.8.3"
  }
 },
 "nbformat": 4,
 "nbformat_minor": 1
}
